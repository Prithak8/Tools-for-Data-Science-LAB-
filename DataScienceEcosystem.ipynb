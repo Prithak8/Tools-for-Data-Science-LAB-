{
 "cells": [
  {
   "cell_type": "markdown",
   "id": "38d247a6-fee0-475a-9b97-9453e58d9882",
   "metadata": {},
   "source": [
    "# Data Science Tools and Ecosystem"
   ]
  },
  {
   "cell_type": "markdown",
   "id": "ed9ae402-0df7-4436-afa2-41f3602357c8",
   "metadata": {},
   "source": [
    "### In this notebook, Data Science Tools and Ecosystem are summarized."
   ]
  },
  {
   "cell_type": "markdown",
   "id": "3e5b1677-5b85-471c-958a-9d8cd7fc499e",
   "metadata": {},
   "source": [
    "**Objectives:**\n",
    "- learn about different languages used in data science\n",
    "- learn about APIs and Libraries used by data scientists\n",
    "- become well versed in jupyter notebooks and IBM Watson studio\n",
    "- learn about different tasks carried out by data scientists "
   ]
  },
  {
   "cell_type": "markdown",
   "id": "302d919e-2f40-457c-8191-64413602be98",
   "metadata": {
    "tags": []
   },
   "source": [
    "#### Some of the popular languages that Data Scientists use are:\n",
    "1. Python\n",
    "2. R\n",
    "3. SQL\n",
    "4. Java\n",
    "5. Julia"
   ]
  },
  {
   "cell_type": "markdown",
   "id": "cf7cbabf-210a-40e7-8754-921b64f7e980",
   "metadata": {},
   "source": [
    "#### Some of the commonly used libraries used by Data Scientists include:\n",
    "1. ggplot\n",
    "2. dplyr\n",
    "3. numpy"
   ]
  },
  {
   "cell_type": "markdown",
   "id": "55684a62-88a2-4525-84bc-07ac2cf335e4",
   "metadata": {},
   "source": [
    "|Data Science Tools|\n",
    "------------------\n",
    "|Jupyter Noteboook|\n",
    "|Google Colab|\n",
    "|Anaconda|\n",
    "\n"
   ]
  },
  {
   "cell_type": "markdown",
   "id": "5ba01422-afe4-4820-8f4e-01b629184e7d",
   "metadata": {},
   "source": [
    "### Below are a few examples of evaluating arithmetic expressions in Python\n",
    "1. Addition: `2 + 3 = 5`\n",
    "2. Subtraction: `7 - 4 = 3`\n",
    "3. Multiplication: `5 * 6 = 30`\n",
    "4. Division: `15 / 3 = 5`\n",
    "5. Exponentiation: `2 ** 4 = 16`"
   ]
  },
  {
   "cell_type": "code",
   "execution_count": 3,
   "id": "429f770b-fab2-4bc6-b927-621a0456192d",
   "metadata": {
    "tags": []
   },
   "outputs": [
    {
     "name": "stdout",
     "output_type": "stream",
     "text": [
      "17\n"
     ]
    }
   ],
   "source": [
    "# This a simple arithmetic expression to mutiply then add integers\n",
    "print((3*4)+5)"
   ]
  },
  {
   "cell_type": "code",
   "execution_count": 4,
   "id": "02462f08-d40b-4667-be6f-1849c05cf15a",
   "metadata": {
    "tags": []
   },
   "outputs": [
    {
     "name": "stdout",
     "output_type": "stream",
     "text": [
      "3.3333333333333335\n"
     ]
    }
   ],
   "source": [
    "# This will convert 200 minutes to hours by diving by 60\n",
    "result=200/60\n",
    "print(result)"
   ]
  },
  {
   "cell_type": "markdown",
   "id": "6af9997b-bea7-466f-810d-7fed3f557286",
   "metadata": {},
   "source": [
    "#"
   ]
  }
 ],
 "metadata": {
  "kernelspec": {
   "display_name": "Python",
   "language": "python",
   "name": "conda-env-python-py"
  },
  "language_info": {
   "codemirror_mode": {
    "name": "ipython",
    "version": 3
   },
   "file_extension": ".py",
   "mimetype": "text/x-python",
   "name": "python",
   "nbconvert_exporter": "python",
   "pygments_lexer": "ipython3",
   "version": "3.7.12"
  }
 },
 "nbformat": 4,
 "nbformat_minor": 5
}
